{
 "cells": [
  {
   "cell_type": "code",
   "execution_count": 4,
   "metadata": {},
   "outputs": [],
   "source": [
    "class SList:\n",
    "    class Node:       \n",
    "        def __init__(self, item, link): # 노드 생성자\n",
    "            self.item = item\n",
    "            self.next = link\n",
    "        \n",
    "    def __init__(self): # 단순연결리스트 생성자\n",
    "        self.head = None\n",
    "        self.size = 0\n",
    "        \n",
    "    def size(self): return self.size\n",
    "    def is_empty(self): return self.size == 0\n",
    "    \n",
    "    def insert_front(self, item): # 첫 노드로 삽입\n",
    "        if self.is_empty():\n",
    "            self.head = self.Node(item, None)\n",
    "        else:\n",
    "            self.head = self.Node(item, self.head)\n",
    "        self.size += 1\n",
    "     \n",
    "    def insert_after(self, item, p): # p 다음에 삽입  \n",
    "        p.next = SList.Node(item, p.next)\n",
    "        self.size += 1  \n",
    "        \n",
    "    def delete_front(self): # 첫 노드 삭제\n",
    "        if self.is_empty():\n",
    "            raise EmptyError('Underflow')\n",
    "        else:\n",
    "            self.head = self.head.next\n",
    "            self.size -= 1\n",
    "\n",
    "    def delete_after(self, p): # p 다음 노드 삭제 \n",
    "        if self.is_empty(): \n",
    "            raise EmptyError('Underflow')\n",
    "        t = p.next\n",
    "        p.next = t.next\n",
    "        self.size -= 1\n",
    "    \n",
    "    def search(self, target): # target 탐색\n",
    "        p = self.head\n",
    "        for k in range(self.size):\n",
    "            if target == p.item: return k\n",
    "            p = p.next\n",
    "        return None\n",
    "\n",
    "    def print_list(self): # 연결리스트 출력\n",
    "        p = self.head\n",
    "        while p:\n",
    "            if p.next != None:\n",
    "                print(p.item, ' -> ', end='')\n",
    "            else:\n",
    "                print(p.item)\n",
    "            p = p.next\n",
    "            \n",
    "class EmptyError(Exception): # underflow 시 에러 처리\n",
    "    pass"
   ]
  },
  {
   "cell_type": "code",
   "execution_count": 7,
   "metadata": {},
   "outputs": [
    {
     "name": "stdout",
     "output_type": "stream",
     "text": [
      "pear  -> apple  -> orange  -> cherry\n",
      "cherry는  3번째\n",
      "kiwi는 None\n",
      "배 다음 노드 삭제 후:\t\tpear  -> orange  -> cherry\n",
      "첫 노드 삭제 후:\t\torange  -> cherry\n",
      "첫 노드로 망고,딸기 삽입 후:\tstrawberry  -> mango  -> orange  -> cherry\n",
      "오렌지 다음 노드 삭제 후:\tstrawberry  -> mango  -> orange\n"
     ]
    }
   ],
   "source": [
    "# from slist import SList\n",
    "if __name__ == '__main__':\n",
    "    s = SList()\n",
    "    s.insert_front('orange')\n",
    "    s.insert_front('apple')\n",
    "    s.insert_after('cherry', s.head.next)\n",
    "    s.insert_front('pear')  \n",
    "    s.print_list()\n",
    "    print('cherry는  %d번째' % s.search('cherry'))\n",
    "    print('kiwi는', s.search('kiwi'))\n",
    "    print('배 다음 노드 삭제 후:\\t\\t', end='')\n",
    "    s.delete_after(s.head)\n",
    "    s.print_list()\n",
    "    print('첫 노드 삭제 후:\\t\\t', end='')\n",
    "    s.delete_front()\n",
    "    s.print_list()\n",
    "    print('첫 노드로 망고,딸기 삽입 후:\\t', end='')\n",
    "    s.insert_front('mango')\n",
    "    s.insert_front('strawberry')\n",
    "    s.print_list()\n",
    "    s.delete_after(s.head.next.next)\n",
    "    print('오렌지 다음 노드 삭제 후:\\t', end='')\n",
    "    s.print_list()"
   ]
  },
  {
   "cell_type": "code",
   "execution_count": 6,
   "metadata": {},
   "outputs": [],
   "source": [
    "class DList:   \n",
    "    class Node: \n",
    "        def __init__(self, item, prev, link): # 노드 생성자\n",
    "            self.item = item \n",
    "            self.prev = prev \n",
    "            self.next = link \n",
    "\n",
    "    def __init__(self): # 이중연결리스트 생성자\n",
    "        self.head = self.Node(None, None, None)\n",
    "        self.tail = self.Node(None, self.head, None)\n",
    "        self.head.next = self.tail     \n",
    "        self.size = 0  # 항목 수\n",
    "\n",
    "    def size(self): return self.size\n",
    "    def is_empty(self): return self.size == 0\n",
    "\n",
    "    def insert_before(self, p, item): # p 앞에 삽입\n",
    "        t = p.prev\n",
    "        n = self.Node(item, t, p)\n",
    "        p.prev = n\n",
    "        t.next = n\n",
    "        self.size += 1\n",
    "     \n",
    "    def insert_after(self, p, item): # p 다음에 삽입\n",
    "        t = p.next\n",
    "        n = self.Node(item, p, t)\n",
    "        t.prev = n\n",
    "        p.next = n\n",
    "        self.size += 1\n",
    "\n",
    "    def delete(self, x): # x가 참조하는 노드 삭제\n",
    "        f = x.prev\n",
    "        r = x.next\n",
    "        f.next = r\n",
    "        r.prev = f\n",
    "        self.size -= 1  \n",
    "        return x.item \n",
    "\n",
    "    def print_list(self):  # 리스트 출력\n",
    "        if self.is_empty():\n",
    "            print('리스트 비어있음')\n",
    "        else: \n",
    "            p = self.head.next\n",
    "            while p != self.tail:\n",
    "                if p.next != self.tail:\n",
    "                    print(p.item, ' <=> ', end='')\n",
    "                else:\n",
    "                    print(p.item)\n",
    "                p = p.next\n",
    "            \n",
    "class EmptyError(Exception): # underflow 시 에러 처리\n",
    "    pass"
   ]
  },
  {
   "cell_type": "code",
   "execution_count": null,
   "metadata": {},
   "outputs": [],
   "source": []
  },
  {
   "cell_type": "markdown",
   "metadata": {},
   "source": [
    "# SQL\n",
    "\n",
    "데이터베이스: 체계화된 데이터의 모임.\n",
    "작성된 목록으로써 여러 응용시스템들의 통합된 정보들을 저장하여 운영할 수 있는 공용 데이터들의 묶음\n",
    "여러사람이 공유하여 사용할 목적으로 통합, 관리하는 데이터의 집합"
   ]
  },
  {
   "cell_type": "markdown",
   "metadata": {},
   "source": [
    "* SELECT\n",
    "* JOIN\n",
    "* ORDER BY\n",
    "* GROUP BY\n",
    "* CROSS JOIN\n",
    "* 단순 연결리스트\n",
    "* 리스트\n",
    "* 시간복잡도, 공간복잡도\n",
    "* 자료구조\n",
    "* 스택(LIFO), 큐(FIFO)\n",
    "* 순환(재귀함수) Recursion\n",
    "* R vs Microsoft Open R -> xdf형식으로 저장\n",
    "* msrdeploy package\n",
    "* DataFrame (in memory) -> 메모리부족\n",
    "* rxImport(xdf형식으로 저장)\n",
    "* ScaleR package\n",
    "* rxFactor\n",
    "* XDF"
   ]
  },
  {
   "cell_type": "markdown",
   "metadata": {},
   "source": [
    "* list vs tuple(:read only)\n",
    "* class Employee\n",
    "* a = Employee()\n",
    "* matplotlib : 시각화 라이브러리\n",
    "* boxplot\n",
    "* scatter\n",
    "* hist\n",
    "* plot"
   ]
  },
  {
   "cell_type": "code",
   "execution_count": 10,
   "metadata": {},
   "outputs": [
    {
     "data": {
      "text/plain": [
       "['a', 'b']"
      ]
     },
     "execution_count": 10,
     "metadata": {},
     "output_type": "execute_result"
    }
   ],
   "source": [
    "a = [2,3,4,['a', 'b']]\n",
    "a[-1]"
   ]
  },
  {
   "cell_type": "code",
   "execution_count": 16,
   "metadata": {},
   "outputs": [
    {
     "name": "stdout",
     "output_type": "stream",
     "text": [
      "3\n",
      "4\n",
      "7\n"
     ]
    }
   ],
   "source": [
    "a = [(1,2), (2,2), (3,4)]\n",
    "\n",
    "for(first, last) in a:\n",
    "    print(first + last)"
   ]
  },
  {
   "cell_type": "code",
   "execution_count": null,
   "metadata": {},
   "outputs": [],
   "source": [
    "\n"
   ]
  }
 ],
 "metadata": {
  "kernelspec": {
   "display_name": "Python 3",
   "language": "python",
   "name": "python3"
  },
  "language_info": {
   "codemirror_mode": {
    "name": "ipython",
    "version": 3
   },
   "file_extension": ".py",
   "mimetype": "text/x-python",
   "name": "python",
   "nbconvert_exporter": "python",
   "pygments_lexer": "ipython3",
   "version": "3.7.3"
  }
 },
 "nbformat": 4,
 "nbformat_minor": 2
}
