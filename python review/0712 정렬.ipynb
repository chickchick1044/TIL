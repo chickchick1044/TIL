{
 "cells": [
  {
   "cell_type": "code",
   "execution_count": 5,
   "metadata": {},
   "outputs": [
    {
     "name": "stdout",
     "output_type": "stream",
     "text": [
      "[2, 19, 31, 45, 6, 11, 121, 27]\n",
      "[2, 19, 31, 6, 45, 11, 121, 27]\n",
      "[2, 19, 31, 6, 11, 45, 121, 27]\n",
      "[2, 19, 31, 6, 11, 45, 27, 121]\n",
      "[2, 19, 6, 31, 11, 45, 27, 121]\n",
      "[2, 19, 6, 11, 31, 45, 27, 121]\n",
      "[2, 19, 6, 11, 31, 27, 45, 121]\n",
      "[2, 6, 19, 11, 31, 27, 45, 121]\n",
      "[2, 6, 11, 19, 31, 27, 45, 121]\n",
      "[2, 6, 11, 19, 27, 31, 45, 121]\n"
     ]
    }
   ],
   "source": [
    "def bubbleSort(data):\n",
    "    for iter_num in range(len(data)-1, 0, -1):\n",
    "        for idx in range(iter_num):\n",
    "            if data[idx] > data[idx+1]:\n",
    "                temp = data[idx]\n",
    "                data[idx] = data[idx+1]\n",
    "                data[idx+1] = temp\n",
    "                print(data)    \n",
    "    \n",
    "d = [19, 2, 31, 45, 6, 11, 121, 27]\n",
    "bubbleSort(d)"
   ]
  },
  {
   "cell_type": "code",
   "execution_count": 6,
   "metadata": {},
   "outputs": [
    {
     "name": "stdout",
     "output_type": "stream",
     "text": [
      "[1, 5, 6, 2, 4, 3]\n",
      "[1, 5, 2, 6, 4, 3]\n",
      "[1, 5, 2, 4, 6, 3]\n",
      "[1, 5, 2, 4, 3, 6]\n",
      "[1, 2, 5, 4, 3, 6]\n",
      "[1, 2, 4, 5, 3, 6]\n",
      "[1, 2, 4, 3, 5, 6]\n",
      "[1, 2, 3, 4, 5, 6]\n"
     ]
    }
   ],
   "source": [
    "d = [5, 1, 6, 2, 4, 3]\n",
    "bubbleSort(d)"
   ]
  },
  {
   "cell_type": "code",
   "execution_count": null,
   "metadata": {},
   "outputs": [],
   "source": []
  }
 ],
 "metadata": {
  "kernelspec": {
   "display_name": "Python 3",
   "language": "python",
   "name": "python3"
  },
  "language_info": {
   "codemirror_mode": {
    "name": "ipython",
    "version": 3
   },
   "file_extension": ".py",
   "mimetype": "text/x-python",
   "name": "python",
   "nbconvert_exporter": "python",
   "pygments_lexer": "ipython3",
   "version": "3.7.3"
  }
 },
 "nbformat": 4,
 "nbformat_minor": 2
}
