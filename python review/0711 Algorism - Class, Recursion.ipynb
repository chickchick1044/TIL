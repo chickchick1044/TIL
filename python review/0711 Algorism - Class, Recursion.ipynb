{
 "cells": [
  {
   "cell_type": "code",
   "execution_count": 6,
   "metadata": {},
   "outputs": [
    {
     "name": "stdout",
     "output_type": "stream",
     "text": [
      "Tom go to school\n",
      "Tom go back home, \n",
      "Amy go to school\n",
      "Amy go back home, \n"
     ]
    }
   ],
   "source": [
    "#Creating class's Student\n",
    "class Student:\n",
    "    # states => variables 상태\n",
    "    # behaviors => methods 동작\n",
    "    # default constructor\n",
    "    def __init__(self, name, age):\n",
    "        self.name = name\n",
    "        self.age = age\n",
    "    \n",
    "    def gotoSchool(self):\n",
    "        print(self.name, \"go to school\")\n",
    "        \n",
    "    def gobackHome(self):\n",
    "        print(self.name, \"go back home\")\n",
    "\n",
    "# Creating instance object\n",
    "stu1 = Student('Tom', 20)\n",
    "stu1.gotoSchool()\n",
    "stu1.gobackHome()\n",
    "stu2 = Student('Amy', 40)\n",
    "stu2.gotoSchool()\n",
    "stu2.gobackHome()"
   ]
  },
  {
   "cell_type": "code",
   "execution_count": 17,
   "metadata": {},
   "outputs": [
    {
     "name": "stdout",
     "output_type": "stream",
     "text": [
      "Amy\n",
      "Amy 20\n",
      "Test doc\n",
      "Employee\n",
      "<class 'type'>\n",
      "__main__\n",
      "(<class 'object'>,)\n",
      "{'__module__': '__main__', '__doc__': 'Test doc', '__init__': <function Employee.__init__ at 0x00000263ED42DD08>, 'working': <function Employee.working at 0x00000263ED42DC80>, '__dict__': <attribute '__dict__' of 'Employee' objects>, '__weakref__': <attribute '__weakref__' of 'Employee' objects>}\n"
     ]
    }
   ],
   "source": [
    "class Employee:\n",
    "#     pass\n",
    "#     name = 'Tom'\n",
    "    'Test doc'\n",
    "    def __init__(self, name):\n",
    "        self.name = name\n",
    "        print(\"%s\" % self.name)\n",
    "    \n",
    "    def working(self, age):\n",
    "        self.age = age\n",
    "        print(\"%s %d\" % (self.name, self.age))\n",
    "    \n",
    "emp2 = Employee('Amy')\n",
    "emp2.working(20)\n",
    "# print(emp2.__class__.name)\n",
    "print(Employee.__doc__) # comment in class\n",
    "print(Employee.__name__) # class name \n",
    "print(Employee.__class__) # type\n",
    "print(Employee.__module__) # class in module\n",
    "print(Employee.__bases__) # base class\n",
    "print(Employee.__dict__) # class를 dictionary 형태로\n"
   ]
  },
  {
   "cell_type": "code",
   "execution_count": 25,
   "metadata": {},
   "outputs": [],
   "source": [
    "class Point:\n",
    "    def __init__(self, x=0, y=0): # constructor 생성자\n",
    "        self.x = x\n",
    "        self.y = y\n",
    "        print(\"x:%d, y:%d\" % (self.x, self.y))\n",
    "    def __del__(self): # destructor 소멸자\n",
    "        class_name = self.__class__.__name__\n",
    "        print(class_name, \"destroyed\")"
   ]
  },
  {
   "cell_type": "code",
   "execution_count": 26,
   "metadata": {},
   "outputs": [
    {
     "name": "stdout",
     "output_type": "stream",
     "text": [
      "x:0, y:0\n",
      "2628205104712 2628205104712 2628205104712\n",
      "Point destroyed\n"
     ]
    }
   ],
   "source": [
    "pt1 = Point()\n",
    "pt2 = pt1\n",
    "pt3 = pt1\n",
    "print( id(pt1), id(pt2), id(pt3) )\n",
    "del pt1\n",
    "del pt2\n",
    "del pt3"
   ]
  },
  {
   "cell_type": "code",
   "execution_count": null,
   "metadata": {},
   "outputs": [],
   "source": []
  },
  {
   "cell_type": "code",
   "execution_count": 32,
   "metadata": {},
   "outputs": [
    {
     "name": "stdout",
     "output_type": "stream",
     "text": [
      "Dog Construtor\n",
      "SibaDog Constructor\n",
      "Siba breath\n",
      "Dog Bark\n"
     ]
    }
   ],
   "source": [
    "class Animal:\n",
    "    def __init__(self):\n",
    "        print(\"Animal Constructor\")\n",
    "    def breath(self):\n",
    "        print(\"Animal Breath\")\n",
    "# a = Animal()\n",
    "# a.breath()\n",
    "\n",
    "class Dog(Animal):\n",
    "    def __init__(self):\n",
    "        print(\"Dog Construtor\")\n",
    "    def bark(self):\n",
    "        print(\"Dog Bark\")\n",
    "        \n",
    "class SibaDog(Dog):\n",
    "    def __init__(self):\n",
    "        super().__init__()\n",
    "        print(\"SibaDog Constructor\")\n",
    "    def breath(self): #override\n",
    "        print(\"Siba breath\")\n",
    "        \n",
    "d = SibaDog()\n",
    "d.breath()\n",
    "d.bark()\n"
   ]
  },
  {
   "cell_type": "code",
   "execution_count": null,
   "metadata": {},
   "outputs": [],
   "source": [
    "# Overriding: def의 재정의 클래스간에 상속관계에 있을때 같은 이름의 함수를 재정의하는것\n",
    "# Overloading : 같은 클래스에서 함수의 매개변수가 다를 경우 사용(이름이 같은 함수의 매개변수가 다를 경우)"
   ]
  },
  {
   "cell_type": "code",
   "execution_count": 37,
   "metadata": {},
   "outputs": [
    {
     "name": "stdout",
     "output_type": "stream",
     "text": [
      "a: 1  b: 0\n",
      "a: 1  b: 2\n",
      "a: 1  b: 0\n"
     ]
    }
   ],
   "source": [
    "class Myclass:\n",
    "    def __init__(self, a=0, b=0):\n",
    "        self.a = a\n",
    "        self.b = b\n",
    "        print(\"a:\", self.a, \" b:\", self.b)\n",
    "        \n",
    "m = Myclass(1)\n",
    "m2 = Myclass(1,2)\n",
    "m3 = Myclass(b=0, a=1)"
   ]
  },
  {
   "cell_type": "code",
   "execution_count": 40,
   "metadata": {},
   "outputs": [
    {
     "name": "stdout",
     "output_type": "stream",
     "text": [
      "Constructor\n"
     ]
    },
    {
     "ename": "AttributeError",
     "evalue": "type object 'Myclass2' has no attribute 'name2'",
     "output_type": "error",
     "traceback": [
      "\u001b[1;31m-------------------------------------------\u001b[0m",
      "\u001b[1;31mAttributeError\u001b[0mTraceback (most recent call last)",
      "\u001b[1;32m<ipython-input-40-2e0c4d269585>\u001b[0m in \u001b[0;36m<module>\u001b[1;34m\u001b[0m\n\u001b[0;32m      8\u001b[0m \u001b[0mm4\u001b[0m \u001b[1;33m=\u001b[0m \u001b[0mMyclass2\u001b[0m\u001b[1;33m(\u001b[0m\u001b[1;33m)\u001b[0m\u001b[1;33m\u001b[0m\u001b[1;33m\u001b[0m\u001b[0m\n\u001b[0;32m      9\u001b[0m \u001b[0mm4\u001b[0m\u001b[1;33m.\u001b[0m\u001b[0m__class__\u001b[0m\u001b[1;33m.\u001b[0m\u001b[0mname\u001b[0m\u001b[1;33m\u001b[0m\u001b[1;33m\u001b[0m\u001b[0m\n\u001b[1;32m---> 10\u001b[1;33m \u001b[0mm4\u001b[0m\u001b[1;33m.\u001b[0m\u001b[0m__class__\u001b[0m\u001b[1;33m.\u001b[0m\u001b[0mname2\u001b[0m\u001b[1;33m\u001b[0m\u001b[1;33m\u001b[0m\u001b[0m\n\u001b[0m",
      "\u001b[1;31mAttributeError\u001b[0m: type object 'Myclass2' has no attribute 'name2'"
     ]
    }
   ],
   "source": [
    "# Data hiding\n",
    "class Myclass2:\n",
    "    name = 100 # public\n",
    "    __name2 = 200 # private\n",
    "    def __init__(self):\n",
    "        print(\"Constructor\")\n",
    "        \n",
    "m4 = Myclass2()\n",
    "m4.__class__.name\n",
    "m4.__class__.name2"
   ]
  },
  {
   "cell_type": "code",
   "execution_count": 2,
   "metadata": {},
   "outputs": [],
   "source": [
    "# OOP의 3가지 특징\n",
    "# 1. 캡슐화\n",
    "# 2. 상속성\n",
    "# 3. 다형성"
   ]
  },
  {
   "cell_type": "code",
   "execution_count": 21,
   "metadata": {},
   "outputs": [
    {
     "data": {
      "text/plain": [
       "'홍길동'"
      ]
     },
     "execution_count": 21,
     "metadata": {},
     "output_type": "execute_result"
    }
   ],
   "source": [
    "class Employee2:    \n",
    "    name2 = \"\" # 외부\n",
    "\n",
    "    def getName(self):\n",
    "        return Employee2.name2\n",
    "\n",
    "    def setName(self, name):\n",
    "        Employee2.name2 = name\n",
    "\n",
    "# emp2 = Employee2()\n",
    "# # emp2.name = '홍길동'\n",
    "# # print(emp2.name)\n",
    "# emp2.setName('홍길동')\n",
    "# emp2.getName()"
   ]
  },
  {
   "cell_type": "code",
   "execution_count": 23,
   "metadata": {},
   "outputs": [
    {
     "data": {
      "text/plain": [
       "'강감찬'"
      ]
     },
     "execution_count": 23,
     "metadata": {},
     "output_type": "execute_result"
    }
   ],
   "source": [
    "emp3 = Employee2()\n",
    "emp3.setName(\"이순신\")\n",
    "emp3.getName()\n",
    "\n",
    "Employee2.name2 = \"강감찬\"\n",
    "emp3.getName()"
   ]
  },
  {
   "cell_type": "code",
   "execution_count": null,
   "metadata": {},
   "outputs": [],
   "source": [
    "# class variable vs instance variable\n",
    "# class variable -> shared variables in instances\n",
    "# instance variable -> in instances"
   ]
  },
  {
   "cell_type": "code",
   "execution_count": 29,
   "metadata": {},
   "outputs": [
    {
     "name": "stdout",
     "output_type": "stream",
     "text": [
      "1234\n",
      "1234\n",
      "강감찬\n",
      "이순신\n"
     ]
    }
   ],
   "source": [
    "class School:\n",
    "    name2 = '1234'\n",
    "    def getName(self):\n",
    "        return School.name2\n",
    "    def getName2(self):\n",
    "        return self.name2\n",
    "    def setName(self, name):\n",
    "        self.name2 = name\n",
    "    def setName2(self, name):\n",
    "        School.name2 = name\n",
    "        \n",
    "\n",
    "s = School()\n",
    "print( s.getName2() )\n",
    "print( s.getName() )\n",
    "s.setName('이순신')\n",
    "s.setName2('강감찬')\n",
    "print( s.getName() )\n",
    "print( s.getName2() )"
   ]
  },
  {
   "cell_type": "code",
   "execution_count": 31,
   "metadata": {},
   "outputs": [
    {
     "name": "stdout",
     "output_type": "stream",
     "text": [
      "Selling price: 1000\n"
     ]
    }
   ],
   "source": [
    "# 캡슐화, 상속성, 다형성 polymorphism\n",
    "# Data hiding \n",
    "\n",
    "class Computer:\n",
    "    def __init__(self):\n",
    "        self.__maxprice = 1000\n",
    "    def sell(self):\n",
    "        print(\"Selling price: %d\" % self.__maxprice)\n",
    "    def setMaxPrice(self, price):\n",
    "        self.__maxprice = price\n",
    "        \n",
    "        \n",
    "c = Computer()\n",
    "c.sell()\n"
   ]
  },
  {
   "cell_type": "code",
   "execution_count": 47,
   "metadata": {},
   "outputs": [
    {
     "name": "stdout",
     "output_type": "stream",
     "text": [
      "Animal Breath\n",
      "Dog Breath\n",
      "Bird breath\n",
      "\n",
      "Animal Breath\n",
      "Dog Breath\n",
      "Bird breath\n"
     ]
    }
   ],
   "source": [
    "# 다형성 polymorphism\n",
    "# Animal <- Dog\n",
    "# Animal <- Bird\n",
    "class Animal:\n",
    "    def breath(self):\n",
    "        print(\"Animal Breath\")\n",
    "    \n",
    "class Dog(Animal):\n",
    "    def breath(self):\n",
    "        print(\"Dog Breath\")\n",
    "\n",
    "class Bird(Animal):\n",
    "    def breath(self):\n",
    "        print(\"Bird breath\")\n",
    "        \n",
    "a = Animal()\n",
    "a.breath()\n",
    "a1 = Dog()\n",
    "a1.breath()\n",
    "a2 = Bird()\n",
    "a2.breath()\n",
    "print()\n",
    "\n",
    "def Execute(test):\n",
    "    test.breath()\n",
    "\n",
    "Execute(a)\n",
    "Execute(a1)\n",
    "Execute(a2)"
   ]
  },
  {
   "cell_type": "code",
   "execution_count": 48,
   "metadata": {
    "scrolled": true
   },
   "outputs": [
    {
     "name": "stdout",
     "output_type": "stream",
     "text": [
      "5  * \n",
      "4  * \n",
      "3  * \n",
      "2  * \n",
      "1  * \n",
      ".\n"
     ]
    }
   ],
   "source": [
    "def recurse(count):\n",
    "    if count <= 0:\n",
    "        print('.')\n",
    "    else:\n",
    "        print(count, ' * ')\n",
    "        recurse(count-1)\n",
    "        \n",
    "recurse(5)"
   ]
  },
  {
   "cell_type": "code",
   "execution_count": 58,
   "metadata": {},
   "outputs": [],
   "source": [
    "# 입력를 사용하여 다음을 출력하시오.\n",
    "data = {'count': 2,\n",
    "        'text': '1',\n",
    "        'values': [{'count': 3,\n",
    "                  'text': '1.1',\n",
    "                  'values': [{'count': 1,\n",
    "                            'text': '1.1.1',\n",
    "                            'values': [{'count':0,\n",
    "                                      'text': '1.1.1.1',\n",
    "                                      'values': []}]},\n",
    "                           {'count': 0,\n",
    "                            'text': '1.1.2',\n",
    "                            'values': []},\n",
    "                           {'count': 0,\n",
    "                            'text': '1.1.3',\n",
    "                            'values': []}]},\n",
    "                 {'count': 0,\n",
    "                  'text': '1.2',\n",
    "                  'values': []}]}"
   ]
  },
  {
   "cell_type": "markdown",
   "metadata": {},
   "source": [
    "* 출력결과\n",
    " 1\n",
    "  1.1\n",
    "   1.1.1\n",
    "    1.1.1.1\n",
    "   1.1.2\n",
    "   1.1.3\n",
    "  1.2"
   ]
  },
  {
   "cell_type": "code",
   "execution_count": 69,
   "metadata": {
    "scrolled": true
   },
   "outputs": [
    {
     "ename": "TypeError",
     "evalue": "list indices must be integers or slices, not str",
     "output_type": "error",
     "traceback": [
      "\u001b[1;31m-------------------------------------------\u001b[0m",
      "\u001b[1;31mTypeError\u001b[0m Traceback (most recent call last)",
      "\u001b[1;32m<ipython-input-69-118a1c812f52>\u001b[0m in \u001b[0;36m<module>\u001b[1;34m\u001b[0m\n\u001b[0;32m      5\u001b[0m         \u001b[0mfunc\u001b[0m\u001b[1;33m(\u001b[0m\u001b[0md\u001b[0m\u001b[1;33m[\u001b[0m\u001b[1;34m'values'\u001b[0m\u001b[1;33m]\u001b[0m\u001b[1;33m)\u001b[0m\u001b[1;33m\u001b[0m\u001b[1;33m\u001b[0m\u001b[0m\n\u001b[0;32m      6\u001b[0m \u001b[1;33m\u001b[0m\u001b[0m\n\u001b[1;32m----> 7\u001b[1;33m \u001b[0mfunc\u001b[0m\u001b[1;33m(\u001b[0m\u001b[0mdata\u001b[0m\u001b[1;33m)\u001b[0m\u001b[1;33m\u001b[0m\u001b[1;33m\u001b[0m\u001b[0m\n\u001b[0m",
      "\u001b[1;32m<ipython-input-69-118a1c812f52>\u001b[0m in \u001b[0;36mfunc\u001b[1;34m(d)\u001b[0m\n\u001b[0;32m      3\u001b[0m         \u001b[0mprint\u001b[0m\u001b[1;33m(\u001b[0m\u001b[0md\u001b[0m\u001b[1;33m[\u001b[0m\u001b[1;34m'text'\u001b[0m\u001b[1;33m]\u001b[0m\u001b[1;33m)\u001b[0m\u001b[1;33m\u001b[0m\u001b[1;33m\u001b[0m\u001b[0m\n\u001b[0;32m      4\u001b[0m     \u001b[1;32melse\u001b[0m\u001b[1;33m:\u001b[0m\u001b[1;33m\u001b[0m\u001b[1;33m\u001b[0m\u001b[0m\n\u001b[1;32m----> 5\u001b[1;33m         \u001b[0mfunc\u001b[0m\u001b[1;33m(\u001b[0m\u001b[0md\u001b[0m\u001b[1;33m[\u001b[0m\u001b[1;34m'values'\u001b[0m\u001b[1;33m]\u001b[0m\u001b[1;33m)\u001b[0m\u001b[1;33m\u001b[0m\u001b[1;33m\u001b[0m\u001b[0m\n\u001b[0m\u001b[0;32m      6\u001b[0m \u001b[1;33m\u001b[0m\u001b[0m\n\u001b[0;32m      7\u001b[0m \u001b[0mfunc\u001b[0m\u001b[1;33m(\u001b[0m\u001b[0mdata\u001b[0m\u001b[1;33m)\u001b[0m\u001b[1;33m\u001b[0m\u001b[1;33m\u001b[0m\u001b[0m\n",
      "\u001b[1;32m<ipython-input-69-118a1c812f52>\u001b[0m in \u001b[0;36mfunc\u001b[1;34m(d)\u001b[0m\n\u001b[0;32m      1\u001b[0m \u001b[1;32mdef\u001b[0m \u001b[0mfunc\u001b[0m\u001b[1;33m(\u001b[0m\u001b[0md\u001b[0m\u001b[1;33m)\u001b[0m\u001b[1;33m:\u001b[0m\u001b[1;33m\u001b[0m\u001b[1;33m\u001b[0m\u001b[0m\n\u001b[1;32m----> 2\u001b[1;33m     \u001b[1;32mif\u001b[0m \u001b[0md\u001b[0m\u001b[1;33m[\u001b[0m\u001b[1;34m'count'\u001b[0m\u001b[1;33m]\u001b[0m\u001b[1;33m==\u001b[0m\u001b[1;36m1\u001b[0m\u001b[1;33m:\u001b[0m\u001b[1;33m\u001b[0m\u001b[1;33m\u001b[0m\u001b[0m\n\u001b[0m\u001b[0;32m      3\u001b[0m         \u001b[0mprint\u001b[0m\u001b[1;33m(\u001b[0m\u001b[0md\u001b[0m\u001b[1;33m[\u001b[0m\u001b[1;34m'text'\u001b[0m\u001b[1;33m]\u001b[0m\u001b[1;33m)\u001b[0m\u001b[1;33m\u001b[0m\u001b[1;33m\u001b[0m\u001b[0m\n\u001b[0;32m      4\u001b[0m     \u001b[1;32melse\u001b[0m\u001b[1;33m:\u001b[0m\u001b[1;33m\u001b[0m\u001b[1;33m\u001b[0m\u001b[0m\n\u001b[0;32m      5\u001b[0m         \u001b[0mfunc\u001b[0m\u001b[1;33m(\u001b[0m\u001b[0md\u001b[0m\u001b[1;33m[\u001b[0m\u001b[1;34m'values'\u001b[0m\u001b[1;33m]\u001b[0m\u001b[1;33m)\u001b[0m\u001b[1;33m\u001b[0m\u001b[1;33m\u001b[0m\u001b[0m\n",
      "\u001b[1;31mTypeError\u001b[0m: list indices must be integers or slices, not str"
     ]
    }
   ],
   "source": [
    "# def func(d):\n",
    "#     if d['count']==1:\n",
    "#         print(d['text'])\n",
    "#     else:\n",
    "#         func(d['values'])\n",
    "        \n",
    "# func(data)"
   ]
  },
  {
   "cell_type": "code",
   "execution_count": 60,
   "metadata": {},
   "outputs": [
    {
     "name": "stdout",
     "output_type": "stream",
     "text": [
      "[{'count': 3, 'text': '1.1', 'values': [{'count': 1, 'text': '1.1.1', 'values': [{'count': 0, 'text': '1.1.1.1', 'values': []}]}, {'count': 0, 'text': '1.1.2', 'values': []}, {'count': 0, 'text': '1.1.3', 'values': []}]}, {'count': 0, 'text': '1.2', 'values': []}]\n"
     ]
    }
   ],
   "source": [
    "# print(data['values'])"
   ]
  },
  {
   "cell_type": "code",
   "execution_count": 63,
   "metadata": {},
   "outputs": [
    {
     "name": "stdout",
     "output_type": "stream",
     "text": [
      "1\n"
     ]
    }
   ],
   "source": [
    "# print(data['text'])"
   ]
  },
  {
   "cell_type": "code",
   "execution_count": 64,
   "metadata": {},
   "outputs": [
    {
     "name": "stdout",
     "output_type": "stream",
     "text": [
      " 1\n",
      " 1.1\n",
      " 1.1.1\n",
      " 1.1.1.1\n",
      " 1.1.2\n",
      " 1.1.3\n",
      " 1.2\n"
     ]
    }
   ],
   "source": [
    "# solution\n",
    "def test(data):\n",
    "    level = 1\n",
    "    print(' '*level + data['text'])\n",
    "    for k in data['values']:\n",
    "        level += 1\n",
    "        test(k)\n",
    "        \n",
    "test(data)"
   ]
  },
  {
   "cell_type": "code",
   "execution_count": 81,
   "metadata": {},
   "outputs": [
    {
     "name": "stdout",
     "output_type": "stream",
     "text": [
      "Four\n",
      "One\n",
      "Two\n",
      "Three\n"
     ]
    }
   ],
   "source": [
    "class Node:\n",
    "    def __init__(self, dataval=None):\n",
    "        self.dataval = dataval\n",
    "        self.nextval = None\n",
    "        \n",
    "class SLinkedList:\n",
    "    def __init__(self):\n",
    "        self.headval = None\n",
    "    def listprint(self):\n",
    "        printval = self.headval\n",
    "        while printval is not None:\n",
    "            print(printval.dataval)\n",
    "            printval = printval.nextval\n",
    "    def insert(self, newdata):\n",
    "        NewNode = Node(newdata)\n",
    "        NewNode.nextval = self.headval\n",
    "        self.headval = NewNode\n",
    "\n",
    "list1 = SLinkedList()\n",
    "list1.headval = Node(\"One\")\n",
    "e2 = Node(\"Two\")\n",
    "e3 = Node(\"Three\")\n",
    "list1.headval.nextval = e2\n",
    "e2.nextval = e3\n",
    "# list1.listprint()\n",
    "list1.insert(\"Four\")\n",
    "list1.listprint()"
   ]
  },
  {
   "cell_type": "code",
   "execution_count": null,
   "metadata": {},
   "outputs": [],
   "source": []
  },
  {
   "cell_type": "code",
   "execution_count": 83,
   "metadata": {},
   "outputs": [
    {
     "ename": "NameError",
     "evalue": "name 'DList' is not defined",
     "output_type": "error",
     "traceback": [
      "\u001b[1;31m-------------------------------------------\u001b[0m",
      "\u001b[1;31mNameError\u001b[0m Traceback (most recent call last)",
      "\u001b[1;32m<ipython-input-83-f0009fedf12a>\u001b[0m in \u001b[0;36m<module>\u001b[1;34m\u001b[0m\n\u001b[0;32m      1\u001b[0m \u001b[1;31m# from dlist import DList\u001b[0m\u001b[1;33m\u001b[0m\u001b[1;33m\u001b[0m\u001b[1;33m\u001b[0m\u001b[0m\n\u001b[0;32m      2\u001b[0m \u001b[1;32mif\u001b[0m \u001b[0m__name__\u001b[0m \u001b[1;33m==\u001b[0m \u001b[1;34m'__main__'\u001b[0m\u001b[1;33m:\u001b[0m\u001b[1;33m\u001b[0m\u001b[1;33m\u001b[0m\u001b[0m\n\u001b[1;32m----> 3\u001b[1;33m     \u001b[0ms\u001b[0m \u001b[1;33m=\u001b[0m \u001b[0mDList\u001b[0m\u001b[1;33m(\u001b[0m\u001b[1;33m)\u001b[0m\u001b[1;33m\u001b[0m\u001b[1;33m\u001b[0m\u001b[0m\n\u001b[0m\u001b[0;32m      4\u001b[0m     \u001b[0ms\u001b[0m\u001b[1;33m.\u001b[0m\u001b[0minsert_after\u001b[0m\u001b[1;33m(\u001b[0m\u001b[0ms\u001b[0m\u001b[1;33m.\u001b[0m\u001b[0mhead\u001b[0m\u001b[1;33m,\u001b[0m\u001b[1;34m'apple'\u001b[0m\u001b[1;33m)\u001b[0m\u001b[1;33m\u001b[0m\u001b[1;33m\u001b[0m\u001b[0m\n\u001b[0;32m      5\u001b[0m     \u001b[0ms\u001b[0m\u001b[1;33m.\u001b[0m\u001b[0minsert_before\u001b[0m\u001b[1;33m(\u001b[0m\u001b[0ms\u001b[0m\u001b[1;33m.\u001b[0m\u001b[0mtail\u001b[0m\u001b[1;33m,\u001b[0m \u001b[1;34m'orange'\u001b[0m\u001b[1;33m)\u001b[0m\u001b[1;33m\u001b[0m\u001b[1;33m\u001b[0m\u001b[0m\n",
      "\u001b[1;31mNameError\u001b[0m: name 'DList' is not defined"
     ]
    }
   ],
   "source": [
    "# from dlist import DList\n",
    "if __name__ == '__main__':\n",
    "    s = DList()\n",
    "    s.insert_after(s.head,'apple')\n",
    "    s.insert_before(s.tail, 'orange')\n",
    "    s.insert_before(s.tail,'cherry')\n",
    "    s.insert_after(s.head.next,'pear')\n",
    "    s.print_list()\n",
    "    print('마지막 노드 삭제 후:\\t', end='')\n",
    "    s.delete(s.tail.prev)\n",
    "    s.print_list() \n",
    "    print('맨 끝에 포도 삽입 후:\\t', end='')\n",
    "    s.insert_before(s.tail,'grape')\n",
    "    s.print_list()\n",
    "    print('첫 노드 삭제 후:\\t', end='')   \n",
    "    s.delete(s.head.next)\n",
    "    s.print_list()\n",
    "    print('첫 노드 삭제 후:\\t', end='')    \n",
    "    s.delete(s.head.next)\n",
    "    s.print_list()\n",
    "    print('첫 노드 삭제 후:\\t', end='') \n",
    "    s.delete(s.head.next)\n",
    "    s.print_list()\n",
    "    print('첫 노드 삭제 후:\\t', end='') \n",
    "    s.delete(s.head.next)\n",
    "    s.print_list()"
   ]
  },
  {
   "cell_type": "code",
   "execution_count": null,
   "metadata": {},
   "outputs": [],
   "source": []
  }
 ],
 "metadata": {
  "kernelspec": {
   "display_name": "Python 3",
   "language": "python",
   "name": "python3"
  },
  "language_info": {
   "codemirror_mode": {
    "name": "ipython",
    "version": 3
   },
   "file_extension": ".py",
   "mimetype": "text/x-python",
   "name": "python",
   "nbconvert_exporter": "python",
   "pygments_lexer": "ipython3",
   "version": "3.7.3"
  }
 },
 "nbformat": 4,
 "nbformat_minor": 2
}
