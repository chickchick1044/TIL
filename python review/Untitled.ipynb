{
 "cells": [
  {
   "cell_type": "code",
   "execution_count": 5,
   "metadata": {},
   "outputs": [
    {
     "ename": "ValueError",
     "evalue": "x and y must be the same size",
     "output_type": "error",
     "traceback": [
      "\u001b[1;31m---------------------------\u001b[0m",
      "\u001b[1;31mValueError\u001b[0mTraceback (most recent call last)",
      "\u001b[1;32m<ipython-input-5-5ac9ec17dc17>\u001b[0m in \u001b[0;36m<module>\u001b[1;34m\u001b[0m\n\u001b[0;32m      4\u001b[0m \u001b[0mX\u001b[0m \u001b[1;33m=\u001b[0m \u001b[0mnp\u001b[0m\u001b[1;33m.\u001b[0m\u001b[0mrandom\u001b[0m\u001b[1;33m.\u001b[0m\u001b[0mrand\u001b[0m\u001b[1;33m(\u001b[0m\u001b[1;36m50\u001b[0m\u001b[1;33m,\u001b[0m \u001b[1;36m1\u001b[0m\u001b[1;33m)\u001b[0m\u001b[1;33m\u001b[0m\u001b[1;33m\u001b[0m\u001b[0m\n\u001b[0;32m      5\u001b[0m \u001b[0mY\u001b[0m \u001b[1;33m=\u001b[0m \u001b[0mnp\u001b[0m\u001b[1;33m.\u001b[0m\u001b[0mrandom\u001b[0m\u001b[1;33m.\u001b[0m\u001b[0mrand\u001b[0m\u001b[1;33m(\u001b[0m\u001b[1;36m50\u001b[0m\u001b[1;33m,\u001b[0m \u001b[1;36m2\u001b[0m\u001b[1;33m)\u001b[0m\u001b[1;33m\u001b[0m\u001b[1;33m\u001b[0m\u001b[0m\n\u001b[1;32m----> 6\u001b[1;33m \u001b[0mplt\u001b[0m\u001b[1;33m.\u001b[0m\u001b[0mscatter\u001b[0m\u001b[1;33m(\u001b[0m\u001b[0mX\u001b[0m\u001b[1;33m,\u001b[0m \u001b[0mY\u001b[0m\u001b[1;33m)\u001b[0m\u001b[1;33m\u001b[0m\u001b[1;33m\u001b[0m\u001b[0m\n\u001b[0m\u001b[0;32m      7\u001b[0m \u001b[0mplt\u001b[0m\u001b[1;33m.\u001b[0m\u001b[0mshow\u001b[0m\u001b[1;33m(\u001b[0m\u001b[1;33m)\u001b[0m\u001b[1;33m\u001b[0m\u001b[1;33m\u001b[0m\u001b[0m\n",
      "\u001b[1;32m~\\Anaconda3\\lib\\site-packages\\matplotlib\\pyplot.py\u001b[0m in \u001b[0;36mscatter\u001b[1;34m(x, y, s, c, marker, cmap, norm, vmin, vmax, alpha, linewidths, verts, edgecolors, data, **kwargs)\u001b[0m\n\u001b[0;32m   2860\u001b[0m         \u001b[0mvmin\u001b[0m\u001b[1;33m=\u001b[0m\u001b[0mvmin\u001b[0m\u001b[1;33m,\u001b[0m \u001b[0mvmax\u001b[0m\u001b[1;33m=\u001b[0m\u001b[0mvmax\u001b[0m\u001b[1;33m,\u001b[0m \u001b[0malpha\u001b[0m\u001b[1;33m=\u001b[0m\u001b[0malpha\u001b[0m\u001b[1;33m,\u001b[0m \u001b[0mlinewidths\u001b[0m\u001b[1;33m=\u001b[0m\u001b[0mlinewidths\u001b[0m\u001b[1;33m,\u001b[0m\u001b[1;33m\u001b[0m\u001b[1;33m\u001b[0m\u001b[0m\n\u001b[0;32m   2861\u001b[0m         verts=verts, edgecolors=edgecolors, **({\"data\": data} if data\n\u001b[1;32m-> 2862\u001b[1;33m         is not None else {}), **kwargs)\n\u001b[0m\u001b[0;32m   2863\u001b[0m     \u001b[0msci\u001b[0m\u001b[1;33m(\u001b[0m\u001b[0m__ret\u001b[0m\u001b[1;33m)\u001b[0m\u001b[1;33m\u001b[0m\u001b[1;33m\u001b[0m\u001b[0m\n\u001b[0;32m   2864\u001b[0m     \u001b[1;32mreturn\u001b[0m \u001b[0m__ret\u001b[0m\u001b[1;33m\u001b[0m\u001b[1;33m\u001b[0m\u001b[0m\n",
      "\u001b[1;32m~\\Anaconda3\\lib\\site-packages\\matplotlib\\__init__.py\u001b[0m in \u001b[0;36minner\u001b[1;34m(ax, data, *args, **kwargs)\u001b[0m\n\u001b[0;32m   1808\u001b[0m                         \u001b[1;34m\"the Matplotlib list!)\"\u001b[0m \u001b[1;33m%\u001b[0m \u001b[1;33m(\u001b[0m\u001b[0mlabel_namer\u001b[0m\u001b[1;33m,\u001b[0m \u001b[0mfunc\u001b[0m\u001b[1;33m.\u001b[0m\u001b[0m__name__\u001b[0m\u001b[1;33m)\u001b[0m\u001b[1;33m,\u001b[0m\u001b[1;33m\u001b[0m\u001b[1;33m\u001b[0m\u001b[0m\n\u001b[0;32m   1809\u001b[0m                         RuntimeWarning, stacklevel=2)\n\u001b[1;32m-> 1810\u001b[1;33m             \u001b[1;32mreturn\u001b[0m \u001b[0mfunc\u001b[0m\u001b[1;33m(\u001b[0m\u001b[0max\u001b[0m\u001b[1;33m,\u001b[0m \u001b[1;33m*\u001b[0m\u001b[0margs\u001b[0m\u001b[1;33m,\u001b[0m \u001b[1;33m**\u001b[0m\u001b[0mkwargs\u001b[0m\u001b[1;33m)\u001b[0m\u001b[1;33m\u001b[0m\u001b[1;33m\u001b[0m\u001b[0m\n\u001b[0m\u001b[0;32m   1811\u001b[0m \u001b[1;33m\u001b[0m\u001b[0m\n\u001b[0;32m   1812\u001b[0m         inner.__doc__ = _add_data_doc(inner.__doc__,\n",
      "\u001b[1;32m~\\Anaconda3\\lib\\site-packages\\matplotlib\\axes\\_axes.py\u001b[0m in \u001b[0;36mscatter\u001b[1;34m(self, x, y, s, c, marker, cmap, norm, vmin, vmax, alpha, linewidths, verts, edgecolors, **kwargs)\u001b[0m\n\u001b[0;32m   4180\u001b[0m         \u001b[0my\u001b[0m \u001b[1;33m=\u001b[0m \u001b[0mnp\u001b[0m\u001b[1;33m.\u001b[0m\u001b[0mma\u001b[0m\u001b[1;33m.\u001b[0m\u001b[0mravel\u001b[0m\u001b[1;33m(\u001b[0m\u001b[0my\u001b[0m\u001b[1;33m)\u001b[0m\u001b[1;33m\u001b[0m\u001b[1;33m\u001b[0m\u001b[0m\n\u001b[0;32m   4181\u001b[0m         \u001b[1;32mif\u001b[0m \u001b[0mx\u001b[0m\u001b[1;33m.\u001b[0m\u001b[0msize\u001b[0m \u001b[1;33m!=\u001b[0m \u001b[0my\u001b[0m\u001b[1;33m.\u001b[0m\u001b[0msize\u001b[0m\u001b[1;33m:\u001b[0m\u001b[1;33m\u001b[0m\u001b[1;33m\u001b[0m\u001b[0m\n\u001b[1;32m-> 4182\u001b[1;33m             \u001b[1;32mraise\u001b[0m \u001b[0mValueError\u001b[0m\u001b[1;33m(\u001b[0m\u001b[1;34m\"x and y must be the same size\"\u001b[0m\u001b[1;33m)\u001b[0m\u001b[1;33m\u001b[0m\u001b[1;33m\u001b[0m\u001b[0m\n\u001b[0m\u001b[0;32m   4183\u001b[0m \u001b[1;33m\u001b[0m\u001b[0m\n\u001b[0;32m   4184\u001b[0m         \u001b[1;32mif\u001b[0m \u001b[0ms\u001b[0m \u001b[1;32mis\u001b[0m \u001b[1;32mNone\u001b[0m\u001b[1;33m:\u001b[0m\u001b[1;33m\u001b[0m\u001b[1;33m\u001b[0m\u001b[0m\n",
      "\u001b[1;31mValueError\u001b[0m: x and y must be the same size"
     ]
    },
    {
     "data": {
      "image/png": "[encoded data removed]",
      "text/plain": [
       "<Figure size 432x288 with 1 Axes>"
      ]
     },
     "metadata": {
      "needs_background": "light"
     },
     "output_type": "display_data"
    }
   ],
   "source": [
    "import numpy as np\n",
    "import matplotlib.pylab as plt\n",
    "\n",
    "X = np.random.rand(50, 1)\n",
    "Y = np.random.rand(50, 2)\n",
    "plt.scatter(X, Y)\n",
    "plt.show()"
   ]
  },
  {
   "cell_type": "code",
   "execution_count": 4,
   "metadata": {},
   "outputs": [
    {
     "data": {
      "text/plain": [
       "array([[0.175944  , 0.11925751, 0.18587291, 0.13098181],\n",
       "       [0.10339666, 0.69549466, 0.56035067, 0.50235503],\n",
       "       [0.3746061 , 0.72135368, 0.7330211 , 0.79267585],\n",
       "       [0.28420829, 0.81933514, 0.05740841, 0.31705691],\n",
       "       [0.40846898, 0.89765615, 0.52732766, 0.61293734],\n",
       "       [0.01000064, 0.97386445, 0.67022021, 0.33337483],\n",
       "       [0.56111536, 0.46102479, 0.39201666, 0.59763911],\n",
       "       [0.95142721, 0.63977036, 0.20188119, 0.66741154],\n",
       "       [0.94173166, 0.60909362, 0.57743985, 0.7548174 ],\n",
       "       [0.32897473, 0.99731997, 0.38285057, 0.20519912],\n",
       "       [0.48482523, 0.32192771, 0.52720097, 0.18057126],\n",
       "       [0.71489093, 0.66625865, 0.10186019, 0.46603705],\n",
       "       [0.3865553 , 0.4529379 , 0.80788627, 0.15926137],\n",
       "       [0.68538677, 0.45420613, 0.96581915, 0.3914478 ],\n",
       "       [0.17786322, 0.68486243, 0.88703721, 0.42031208],\n",
       "       [0.62023941, 0.6479143 , 0.18505275, 0.31434526],\n",
       "       [0.59899618, 0.66302323, 0.90118002, 0.29147515],\n",
       "       [0.25249146, 0.03407426, 0.79035903, 0.02649241],\n",
       "       [0.81085542, 0.59063819, 0.33054277, 0.83119779],\n",
       "       [0.17075516, 0.26266945, 0.05208279, 0.72429678],\n",
       "       [0.17896355, 0.46493257, 0.4994183 , 0.3306262 ],\n",
       "       [0.80952342, 0.38620494, 0.38576086, 0.02616216],\n",
       "       [0.19877057, 0.52355783, 0.38125861, 0.28897803],\n",
       "       [0.91112737, 0.63804178, 0.02981752, 0.4811239 ],\n",
       "       [0.47467075, 0.11314827, 0.47157323, 0.23345842],\n",
       "       [0.37675549, 0.46710106, 0.63792749, 0.26487829],\n",
       "       [0.63980025, 0.95404632, 0.36543773, 0.4782535 ],\n",
       "       [0.68913965, 0.12688345, 0.04847833, 0.27554091],\n",
       "       [0.28459929, 0.06003086, 0.96650328, 0.05841999],\n",
       "       [0.8050855 , 0.78272163, 0.35220559, 0.2126967 ],\n",
       "       [0.99975974, 0.14207079, 0.53944177, 0.68987234],\n",
       "       [0.50362131, 0.35030767, 0.08803228, 0.9670514 ],\n",
       "       [0.51538443, 0.37574765, 0.69202374, 0.90338535],\n",
       "       [0.99884961, 0.22578517, 0.9831298 , 0.31176398],\n",
       "       [0.70745698, 0.54490302, 0.01111671, 0.91501691],\n",
       "       [0.15120152, 0.19681074, 0.10792302, 0.84059047],\n",
       "       [0.22512174, 0.64534883, 0.7697797 , 0.19504106],\n",
       "       [0.3033155 , 0.17921025, 0.67166946, 0.57066479],\n",
       "       [0.18586182, 0.64537864, 0.10276811, 0.35361381],\n",
       "       [0.157429  , 0.68603013, 0.57987883, 0.78428312],\n",
       "       [0.55844154, 0.06714646, 0.69487335, 0.50904554],\n",
       "       [0.19389039, 0.64853698, 0.19884847, 0.59513177],\n",
       "       [0.9619501 , 0.83195783, 0.0573312 , 0.01616323],\n",
       "       [0.42972264, 0.42505859, 0.09156517, 0.29823972],\n",
       "       [0.49153216, 0.1366919 , 0.6165246 , 0.89523941],\n",
       "       [0.23506073, 0.35107752, 0.11371843, 0.00183159],\n",
       "       [0.40537182, 0.50315553, 0.08914792, 0.98191575],\n",
       "       [0.83638808, 0.80736015, 0.39644984, 0.81310715],\n",
       "       [0.35824876, 0.78507788, 0.66715229, 0.70570094],\n",
       "       [0.73266428, 0.54461725, 0.5014039 , 0.91578219]])"
      ]
     },
     "execution_count": 4,
     "metadata": {},
     "output_type": "execute_result"
    }
   ],
   "source": [
    "np.random.rand(50, 4)"
   ]
  },
  {
   "cell_type": "code",
   "execution_count": null,
   "metadata": {},
   "outputs": [],
   "source": []
  }
 ],
 "metadata": {
  "kernelspec": {
   "display_name": "Python 3",
   "language": "python",
   "name": "python3"
  },
  "language_info": {
   "codemirror_mode": {
    "name": "ipython",
    "version": 3
   },
   "file_extension": ".py",
   "mimetype": "text/x-python",
   "name": "python",
   "nbconvert_exporter": "python",
   "pygments_lexer": "ipython3",
   "version": "3.7.3"
  }
 },
 "nbformat": 4,
 "nbformat_minor": 2
}
