{
 "cells": [
  {
   "cell_type": "code",
   "execution_count": 8,
   "metadata": {},
   "outputs": [
    {
     "name": "stdout",
     "output_type": "stream",
     "text": [
      "['One', 'Two']\n"
     ]
    }
   ],
   "source": [
    "class Stack:\n",
    "    def __init__(self):\n",
    "        self.stack = []\n",
    "        \n",
    "    def add(self, dataval):\n",
    "        if dataval not in self.stack:\n",
    "            self.stack.append(dataval)\n",
    "            return True\n",
    "        else:\n",
    "            return False\n",
    "        \n",
    "    def peek(self):\n",
    "        return self.stack[-1]\n",
    "    \n",
    "    def stackList(self):\n",
    "        print(self.stack)\n",
    "        \n",
    "    def remove(self):\n",
    "        if len(self.stack)<= 0:\n",
    "            return\n",
    "        else:\n",
    "            return self.stack.pop()\n",
    "    \n",
    "\n",
    "a = Stack()\n",
    "a.add(\"One\")\n",
    "a.add(\"One\") # 이미 존재하기 때문에 삽입되지않는다.\n",
    "a.add(\"Two\")\n",
    "# a.peek()\n",
    "a.stackList()\n"
   ]
  },
  {
   "cell_type": "code",
   "execution_count": 10,
   "metadata": {},
   "outputs": [
    {
     "data": {
      "text/plain": [
       "2"
      ]
     },
     "execution_count": 10,
     "metadata": {},
     "output_type": "execute_result"
    }
   ],
   "source": [
    "class Queue:\n",
    "    def __init__(self):\n",
    "        self.queue = list()\n",
    "        \n",
    "    def addtoq(self, dataval):\n",
    "        if dataval not in self.queue:\n",
    "            self.queue.insert(0,dataval)\n",
    "            return True\n",
    "    def size(self):\n",
    "        return len(self.queue)\n",
    "    \n",
    "    def remove(self):\n",
    "        if len(self.stack)<= 0:\n",
    "            return\n",
    "        else:\n",
    "            return self.queue.pop()\n",
    "    \n",
    "q = Queue()\n",
    "q.addtoq(\"One\")\n",
    "q.addtoq(\"Two\")\n",
    "q.size()\n"
   ]
  },
  {
   "cell_type": "code",
   "execution_count": null,
   "metadata": {},
   "outputs": [],
   "source": []
  }
 ],
 "metadata": {
  "kernelspec": {
   "display_name": "Python 3",
   "language": "python",
   "name": "python3"
  },
  "language_info": {
   "codemirror_mode": {
    "name": "ipython",
    "version": 3
   },
   "file_extension": ".py",
   "mimetype": "text/x-python",
   "name": "python",
   "nbconvert_exporter": "python",
   "pygments_lexer": "ipython3",
   "version": "3.7.3"
  }
 },
 "nbformat": 4,
 "nbformat_minor": 2
}
