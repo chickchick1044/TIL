{
 "cells": [
  {
   "cell_type": "code",
   "execution_count": 1,
   "metadata": {},
   "outputs": [],
   "source": [
    "# %load np_load_allow_pickle_True.py\n",
    "import numpy as np \n",
    "np_load_old = np.load\n",
    "np.load = lambda *a, **k: np_load_old(*a, allow_pickle=True, **k)\n",
    "\n",
    "# np.load 사용 후 반드시 아래 코드를 실행할 것!!!\n",
    "# np.load = np_load_old"
   ]
  },
  {
   "cell_type": "code",
   "execution_count": 2,
   "metadata": {},
   "outputs": [
    {
     "name": "stderr",
     "output_type": "stream",
     "text": [
      "Using TensorFlow backend.\n"
     ]
    }
   ],
   "source": [
    "from keras.datasets import reuters\n",
    "(train_data, train_labels), (test_data, test_labels) = \\\n",
    "    reuters.load_data(num_words=10000)"
   ]
  },
  {
   "cell_type": "code",
   "execution_count": 3,
   "metadata": {},
   "outputs": [],
   "source": [
    "np.load = np_load_old"
   ]
  },
  {
   "cell_type": "code",
   "execution_count": 4,
   "metadata": {},
   "outputs": [],
   "source": [
    "def vectorize_sequences(sequences, dimension=10000):\n",
    "    results = np.zeros((len(sequences), dimension))\n",
    "    for i, sequence in enumerate(sequences):\n",
    "        results[i, sequence] = 1.\n",
    "    return results\n",
    "\n",
    "x_train = vectorize_sequences(train_data)\n",
    "x_test = vectorize_sequences(test_data)"
   ]
  },
  {
   "cell_type": "code",
   "execution_count": 5,
   "metadata": {},
   "outputs": [],
   "source": [
    "from keras.utils.np_utils import to_categorical\n",
    "one_hot_train_labels = to_categorical(train_labels)\n",
    "one_hot_test_labels = to_categorical(test_labels)"
   ]
  },
  {
   "cell_type": "code",
   "execution_count": 11,
   "metadata": {},
   "outputs": [],
   "source": [
    "from keras import models\n",
    "from keras import layers\n",
    "model = models.Sequential()\n",
    "model.add(layers.Dense(64, activation='relu', input_shape=(10000,)))\n",
    "model.add(layers.Dense(64, activation='relu'))\n",
    "model.add(layers.Dense(46, activation='softmax'))"
   ]
  },
  {
   "cell_type": "code",
   "execution_count": 12,
   "metadata": {},
   "outputs": [],
   "source": [
    "model.compile(optimizer='adam',\n",
    "              loss='categorical_crossentropy',\n",
    "              metrics=['accuracy'])"
   ]
  },
  {
   "cell_type": "code",
   "execution_count": 13,
   "metadata": {},
   "outputs": [],
   "source": [
    "x_val = x_train[:1000]\n",
    "partial_x_train = x_train[1000:]\n",
    "y_val = one_hot_train_labels[:1000]\n",
    "partial_y_train = one_hot_train_labels[1000:]"
   ]
  },
  {
   "cell_type": "code",
   "execution_count": 14,
   "metadata": {},
   "outputs": [
    {
     "name": "stdout",
     "output_type": "stream",
     "text": [
      "Train on 7982 samples, validate on 1000 samples\n",
      "Epoch 1/20\n",
      "7982/7982 [==============================] - 1s 187us/step - loss: 3.2516 - acc: 0.3919 - val_loss: 2.5445 - val_acc: 0.5570\n",
      "Epoch 2/20\n",
      "7982/7982 [==============================] - 1s 119us/step - loss: 1.9857 - acc: 0.6160 - val_loss: 1.6177 - val_acc: 0.6510\n",
      "Epoch 3/20\n",
      "7982/7982 [==============================] - 1s 121us/step - loss: 1.3387 - acc: 0.7122 - val_loss: 1.2897 - val_acc: 0.7070\n",
      "Epoch 4/20\n",
      "7982/7982 [==============================] - 1s 120us/step - loss: 1.0328 - acc: 0.7755 - val_loss: 1.1365 - val_acc: 0.7510\n",
      "Epoch 5/20\n",
      "7982/7982 [==============================] - 1s 118us/step - loss: 0.8188 - acc: 0.8183 - val_loss: 1.0350 - val_acc: 0.7730\n",
      "Epoch 6/20\n",
      "7982/7982 [==============================] - 1s 120us/step - loss: 0.6441 - acc: 0.8613 - val_loss: 0.9725 - val_acc: 0.7980\n",
      "Epoch 7/20\n",
      "7982/7982 [==============================] - 1s 117us/step - loss: 0.5023 - acc: 0.8910 - val_loss: 0.9230 - val_acc: 0.8120\n",
      "Epoch 8/20\n",
      "7982/7982 [==============================] - 1s 119us/step - loss: 0.3910 - acc: 0.9193 - val_loss: 0.8969 - val_acc: 0.8190\n",
      "Epoch 9/20\n",
      "7982/7982 [==============================] - 1s 118us/step - loss: 0.3059 - acc: 0.9351 - val_loss: 0.8940 - val_acc: 0.8190\n",
      "Epoch 10/20\n",
      "7982/7982 [==============================] - 1s 118us/step - loss: 0.2485 - acc: 0.9456 - val_loss: 0.8981 - val_acc: 0.8150\n",
      "Epoch 11/20\n",
      "7982/7982 [==============================] - 1s 118us/step - loss: 0.2103 - acc: 0.9500 - val_loss: 0.9100 - val_acc: 0.8210\n",
      "Epoch 12/20\n",
      "7982/7982 [==============================] - 1s 118us/step - loss: 0.1766 - acc: 0.9543 - val_loss: 0.9243 - val_acc: 0.8150\n",
      "Epoch 13/20\n",
      "7982/7982 [==============================] - 1s 117us/step - loss: 0.1550 - acc: 0.9565 - val_loss: 0.9388 - val_acc: 0.8100\n",
      "Epoch 14/20\n",
      "7982/7982 [==============================] - 1s 117us/step - loss: 0.1399 - acc: 0.9579 - val_loss: 0.9345 - val_acc: 0.8200\n",
      "Epoch 15/20\n",
      "7982/7982 [==============================] - 1s 118us/step - loss: 0.1254 - acc: 0.9599 - val_loss: 0.9634 - val_acc: 0.8130\n",
      "Epoch 16/20\n",
      "7982/7982 [==============================] - 1s 119us/step - loss: 0.1199 - acc: 0.9599 - val_loss: 0.9644 - val_acc: 0.8200\n",
      "Epoch 17/20\n",
      "7982/7982 [==============================] - 1s 117us/step - loss: 0.1121 - acc: 0.9617 - val_loss: 0.9735 - val_acc: 0.8220\n",
      "Epoch 18/20\n",
      "7982/7982 [==============================] - 1s 119us/step - loss: 0.1088 - acc: 0.9607 - val_loss: 1.0050 - val_acc: 0.8170\n",
      "Epoch 19/20\n",
      "7982/7982 [==============================] - 1s 118us/step - loss: 0.1026 - acc: 0.9600 - val_loss: 1.0037 - val_acc: 0.8180\n",
      "Epoch 20/20\n",
      "7982/7982 [==============================] - 1s 117us/step - loss: 0.0950 - acc: 0.9610 - val_loss: 1.0057 - val_acc: 0.8150\n"
     ]
    }
   ],
   "source": [
    "history = model.fit(partial_x_train,\n",
    "                    partial_y_train,\n",
    "                    epochs=20,\n",
    "                    batch_size=512,\n",
    "                    validation_data=(x_val, y_val))"
   ]
  },
  {
   "cell_type": "code",
   "execution_count": 15,
   "metadata": {},
   "outputs": [
    {
     "data": {
      "image/png": "[encoded data removed]",
      "text/plain": [
       "<Figure size 432x288 with 1 Axes>"
      ]
     },
     "metadata": {
      "needs_background": "light"
     },
     "output_type": "display_data"
    }
   ],
   "source": [
    "import matplotlib.pyplot as plt\n",
    "%matplotlib inline\n",
    "\n",
    "loss = history.history['loss']\n",
    "val_loss = history.history['val_loss']\n",
    "\n",
    "epochs = range(1, len(loss) + 1)\n",
    "\n",
    "plt.plot(epochs, loss, 'bo', label='Training loss')\n",
    "plt.plot(epochs, val_loss, 'b', label='Validation loss')\n",
    "plt.title('Training and validation loss')\n",
    "plt.xlabel('Epochs')\n",
    "plt.ylabel('Loss')\n",
    "plt.legend();"
   ]
  },
  {
   "cell_type": "code",
   "execution_count": 16,
   "metadata": {},
   "outputs": [
    {
     "data": {
      "image/png": "[encoded data removed]",
      "text/plain": [
       "<Figure size 432x288 with 1 Axes>"
      ]
     },
     "metadata": {
      "needs_background": "light"
     },
     "output_type": "display_data"
    }
   ],
   "source": [
    "acc = history.history['acc']\n",
    "val_acc = history.history['val_acc']\n",
    "\n",
    "plt.plot(epochs, acc, 'bo', label='Training acc')\n",
    "plt.plot(epochs, val_acc, 'b', label='Validation acc')\n",
    "plt.title('Training and validation accuracy')\n",
    "plt.xlabel('Epochs')\n",
    "plt.ylabel('Accuracy')\n",
    "plt.legend();"
   ]
  },
  {
   "cell_type": "code",
   "execution_count": 17,
   "metadata": {
    "scrolled": true
   },
   "outputs": [
    {
     "name": "stdout",
     "output_type": "stream",
     "text": [
      "Train on 7982 samples, validate on 1000 samples\n",
      "Epoch 1/9\n",
      "7982/7982 [==============================] - 1s 149us/step - loss: 3.4842 - acc: 0.3067 - val_loss: 2.9045 - val_acc: 0.5350\n",
      "Epoch 2/9\n",
      "7982/7982 [==============================] - 1s 117us/step - loss: 2.2689 - acc: 0.5931 - val_loss: 1.8163 - val_acc: 0.6300\n",
      "Epoch 3/9\n",
      "7982/7982 [==============================] - 1s 118us/step - loss: 1.4523 - acc: 0.6981 - val_loss: 1.3404 - val_acc: 0.7040\n",
      "Epoch 4/9\n",
      "7982/7982 [==============================] - 1s 117us/step - loss: 1.0695 - acc: 0.7722 - val_loss: 1.1510 - val_acc: 0.7540\n",
      "Epoch 5/9\n",
      "7982/7982 [==============================] - 1s 117us/step - loss: 0.8312 - acc: 0.8276 - val_loss: 1.0372 - val_acc: 0.7910\n",
      "Epoch 6/9\n",
      "7982/7982 [==============================] - 1s 117us/step - loss: 0.6456 - acc: 0.8676 - val_loss: 0.9660 - val_acc: 0.8010\n",
      "Epoch 7/9\n",
      "7982/7982 [==============================] - 1s 118us/step - loss: 0.4966 - acc: 0.8988 - val_loss: 0.9105 - val_acc: 0.8120\n",
      "Epoch 8/9\n",
      "7982/7982 [==============================] - 1s 117us/step - loss: 0.3869 - acc: 0.9228 - val_loss: 0.8907 - val_acc: 0.8200\n",
      "Epoch 9/9\n",
      "7982/7982 [==============================] - 1s 118us/step - loss: 0.3073 - acc: 0.9352 - val_loss: 0.8767 - val_acc: 0.8200\n",
      "2246/2246 [==============================] - 0s 140us/step\n"
     ]
    }
   ],
   "source": [
    "model = models.Sequential()\n",
    "model.add(layers.Dense(64, activation='relu', input_shape=(10000,)))\n",
    "model.add(layers.Dense(64, activation='relu'))\n",
    "model.add(layers.Dense(46, activation='softmax'))\n",
    "\n",
    "model.compile(optimizer='adam',\n",
    "              loss='categorical_crossentropy',\n",
    "              metrics=['accuracy'])\n",
    "model.fit(partial_x_train,\n",
    "          partial_y_train,\n",
    "          epochs=9,\n",
    "          batch_size=512,\n",
    "          validation_data=(x_val, y_val))\n",
    "results = model.evaluate(x_test, one_hot_test_labels)"
   ]
  },
  {
   "cell_type": "code",
   "execution_count": 18,
   "metadata": {},
   "outputs": [
    {
     "data": {
      "text/plain": [
       "[0.9649026988344541, 0.7920747996968874]"
      ]
     },
     "execution_count": 18,
     "metadata": {},
     "output_type": "execute_result"
    }
   ],
   "source": [
    "results"
   ]
  },
  {
   "cell_type": "code",
   "execution_count": 19,
   "metadata": {},
   "outputs": [
    {
     "name": "stdout",
     "output_type": "stream",
     "text": [
      "0.9566052\n",
      "3\n"
     ]
    }
   ],
   "source": [
    "predictions = model.predict(x_test)\n",
    "print(predictions[0].max())\n",
    "print(np.argmax(predictions[0]))"
   ]
  },
  {
   "cell_type": "code",
   "execution_count": null,
   "metadata": {},
   "outputs": [],
   "source": []
  }
 ],
 "metadata": {
  "kernelspec": {
   "display_name": "Python 3",
   "language": "python",
   "name": "python3"
  },
  "language_info": {
   "codemirror_mode": {
    "name": "ipython",
    "version": 3
   },
   "file_extension": ".py",
   "mimetype": "text/x-python",
   "name": "python",
   "nbconvert_exporter": "python",
   "pygments_lexer": "ipython3",
   "version": "3.7.3"
  }
 },
 "nbformat": 4,
 "nbformat_minor": 2
}
