{
 "cells": [
  {
   "cell_type": "code",
   "execution_count": 2,
   "metadata": {},
   "outputs": [],
   "source": [
    "import pandas as pd\n",
    "import numpy as np\n",
    "import matplotlib.pyplot as plt\n",
    "import seaborn as sns\n",
    "%matplotlib inline"
   ]
  },
  {
   "cell_type": "code",
   "execution_count": 3,
   "metadata": {},
   "outputs": [],
   "source": [
    "# matplotlib 한글 깨짐 해결\n",
    "from matplotlib import font_manager, rc\n",
    "font_name = font_manager.FontProperties(fname=\"C:\\Windows\\Fonts\\malgun.ttf\").get_name()\n",
    "rc('font', family=font_name)"
   ]
  },
  {
   "cell_type": "code",
   "execution_count": 4,
   "metadata": {},
   "outputs": [],
   "source": [
    "df = pd.read_csv('credit_card_data(utf8).txt')"
   ]
  },
  {
   "cell_type": "code",
   "execution_count": 5,
   "metadata": {},
   "outputs": [],
   "source": [
    "data_by_sex = df[df.pop_cd.str[0]=='Y'] # 지역x, 성별o"
   ]
  },
  {
   "cell_type": "code",
   "execution_count": 6,
   "metadata": {},
   "outputs": [],
   "source": [
    "data_by_loc = df[df.pop_cd.str[0]=='L'] # 지역o, 성별x"
   ]
  },
  {
   "cell_type": "code",
   "execution_count": 7,
   "metadata": {},
   "outputs": [],
   "source": [
    "data_by_sex_90s = data_by_sex[data_by_sex.ages=='90대'] # 90대, 성별o\n",
    "data_by_loc_90s = data_by_loc[data_by_loc.ages=='90대'] # 90대, 지역o"
   ]
  },
  {
   "cell_type": "code",
   "execution_count": 9,
   "metadata": {},
   "outputs": [
    {
     "name": "stderr",
     "output_type": "stream",
     "text": [
      "C:\\Users\\user\\Anaconda3\\lib\\site-packages\\ipykernel_launcher.py:1: SettingWithCopyWarning: \n",
      "A value is trying to be set on a copy of a slice from a DataFrame.\n",
      "Try using .loc[row_indexer,col_indexer] = value instead\n",
      "\n",
      "See the caveats in the documentation: http://pandas.pydata.org/pandas-docs/stable/indexing.html#indexing-view-versus-copy\n",
      "  \"\"\"Entry point for launching an IPython kernel.\n"
     ]
    },
    {
     "data": {
      "text/plain": [
       "3456    86.363636\n",
       "3457    36.666667\n",
       "3458    36.666667\n",
       "3459    36.666667\n",
       "3460    36.666667\n",
       "Name: card_use_rate, dtype: float64"
      ]
     },
     "execution_count": 9,
     "metadata": {},
     "output_type": "execute_result"
    }
   ],
   "source": [
    "data_by_loc_90s['card_use_rate'] = data_by_loc_90s['num_usecard'] / data_by_loc_90s['num_opencard'] * 100\n",
    "data_by_loc_90s['card_use_rate'].head()"
   ]
  },
  {
   "cell_type": "code",
   "execution_count": 11,
   "metadata": {},
   "outputs": [
    {
     "data": {
      "text/html": [
       "<div>\n",
       "<style scoped>\n",
       "    .dataframe tbody tr th:only-of-type {\n",
       "        vertical-align: middle;\n",
       "    }\n",
       "\n",
       "    .dataframe tbody tr th {\n",
       "        vertical-align: top;\n",
       "    }\n",
       "\n",
       "    .dataframe thead th {\n",
       "        text-align: right;\n",
       "    }\n",
       "</style>\n",
       "<table border=\"1\" class=\"dataframe\">\n",
       "  <thead>\n",
       "    <tr style=\"text-align: right;\">\n",
       "      <th></th>\n",
       "      <th>pop_cd</th>\n",
       "      <th>year</th>\n",
       "      <th>month</th>\n",
       "      <th>avg_score</th>\n",
       "      <th>avg_rat</th>\n",
       "      <th>city</th>\n",
       "      <th>sex</th>\n",
       "      <th>ages</th>\n",
       "      <th>population</th>\n",
       "      <th>num_opencard</th>\n",
       "      <th>...</th>\n",
       "      <th>monthly_installments_loan</th>\n",
       "      <th>monthly_insurance_loan</th>\n",
       "      <th>monthly_sbk_loan</th>\n",
       "      <th>loan_commitment</th>\n",
       "      <th>inst_rep_loanb</th>\n",
       "      <th>ls_rep_loanb</th>\n",
       "      <th>credit_loan</th>\n",
       "      <th>mortgage_loan</th>\n",
       "      <th>credit_card_payment</th>\n",
       "      <th>credit_card_installments_payment</th>\n",
       "    </tr>\n",
       "  </thead>\n",
       "  <tbody>\n",
       "    <tr>\n",
       "      <th>3840</th>\n",
       "      <td>Y90</td>\n",
       "      <td>2016</td>\n",
       "      <td>1</td>\n",
       "      <td>787</td>\n",
       "      <td>3</td>\n",
       "      <td>NaN</td>\n",
       "      <td>남자</td>\n",
       "      <td>90대</td>\n",
       "      <td>122000</td>\n",
       "      <td>1.33</td>\n",
       "      <td>...</td>\n",
       "      <td>380000</td>\n",
       "      <td>470000</td>\n",
       "      <td>60000</td>\n",
       "      <td>18040000</td>\n",
       "      <td>15260000</td>\n",
       "      <td>54190000</td>\n",
       "      <td>17640000</td>\n",
       "      <td>108690000</td>\n",
       "      <td>107000</td>\n",
       "      <td>29000</td>\n",
       "    </tr>\n",
       "    <tr>\n",
       "      <th>3841</th>\n",
       "      <td>Y90</td>\n",
       "      <td>2016</td>\n",
       "      <td>2</td>\n",
       "      <td>821</td>\n",
       "      <td>3</td>\n",
       "      <td>NaN</td>\n",
       "      <td>남자</td>\n",
       "      <td>90대</td>\n",
       "      <td>150000</td>\n",
       "      <td>0.11</td>\n",
       "      <td>...</td>\n",
       "      <td>600000</td>\n",
       "      <td>460000</td>\n",
       "      <td>20000</td>\n",
       "      <td>12730000</td>\n",
       "      <td>15910000</td>\n",
       "      <td>55360000</td>\n",
       "      <td>20590000</td>\n",
       "      <td>101060000</td>\n",
       "      <td>100000</td>\n",
       "      <td>22000</td>\n",
       "    </tr>\n",
       "    <tr>\n",
       "      <th>3842</th>\n",
       "      <td>Y90</td>\n",
       "      <td>2016</td>\n",
       "      <td>3</td>\n",
       "      <td>821</td>\n",
       "      <td>3</td>\n",
       "      <td>NaN</td>\n",
       "      <td>남자</td>\n",
       "      <td>90대</td>\n",
       "      <td>152000</td>\n",
       "      <td>0.11</td>\n",
       "      <td>...</td>\n",
       "      <td>600000</td>\n",
       "      <td>550000</td>\n",
       "      <td>20000</td>\n",
       "      <td>13550000</td>\n",
       "      <td>15970000</td>\n",
       "      <td>56890000</td>\n",
       "      <td>21750000</td>\n",
       "      <td>102050000</td>\n",
       "      <td>92000</td>\n",
       "      <td>18000</td>\n",
       "    </tr>\n",
       "    <tr>\n",
       "      <th>3843</th>\n",
       "      <td>Y90</td>\n",
       "      <td>2016</td>\n",
       "      <td>4</td>\n",
       "      <td>821</td>\n",
       "      <td>3</td>\n",
       "      <td>NaN</td>\n",
       "      <td>남자</td>\n",
       "      <td>90대</td>\n",
       "      <td>155000</td>\n",
       "      <td>0.11</td>\n",
       "      <td>...</td>\n",
       "      <td>600000</td>\n",
       "      <td>550000</td>\n",
       "      <td>20000</td>\n",
       "      <td>13430000</td>\n",
       "      <td>16840000</td>\n",
       "      <td>56790000</td>\n",
       "      <td>21730000</td>\n",
       "      <td>103120000</td>\n",
       "      <td>112000</td>\n",
       "      <td>21000</td>\n",
       "    </tr>\n",
       "    <tr>\n",
       "      <th>3844</th>\n",
       "      <td>Y90</td>\n",
       "      <td>2016</td>\n",
       "      <td>5</td>\n",
       "      <td>822</td>\n",
       "      <td>3</td>\n",
       "      <td>NaN</td>\n",
       "      <td>남자</td>\n",
       "      <td>90대</td>\n",
       "      <td>158000</td>\n",
       "      <td>0.11</td>\n",
       "      <td>...</td>\n",
       "      <td>600000</td>\n",
       "      <td>550000</td>\n",
       "      <td>20000</td>\n",
       "      <td>14080000</td>\n",
       "      <td>16680000</td>\n",
       "      <td>56880000</td>\n",
       "      <td>20860000</td>\n",
       "      <td>103940000</td>\n",
       "      <td>111000</td>\n",
       "      <td>24000</td>\n",
       "    </tr>\n",
       "  </tbody>\n",
       "</table>\n",
       "<p>5 rows × 26 columns</p>\n",
       "</div>"
      ],
      "text/plain": [
       "     pop_cd  year  month  avg_score  avg_rat city sex ages  population  \\\n",
       "3840    Y90  2016      1        787        3  NaN  남자  90대      122000   \n",
       "3841    Y90  2016      2        821        3  NaN  남자  90대      150000   \n",
       "3842    Y90  2016      3        821        3  NaN  남자  90대      152000   \n",
       "3843    Y90  2016      4        821        3  NaN  남자  90대      155000   \n",
       "3844    Y90  2016      5        822        3  NaN  남자  90대      158000   \n",
       "\n",
       "      num_opencard  ...  monthly_installments_loan  monthly_insurance_loan  \\\n",
       "3840          1.33  ...                     380000                  470000   \n",
       "3841          0.11  ...                     600000                  460000   \n",
       "3842          0.11  ...                     600000                  550000   \n",
       "3843          0.11  ...                     600000                  550000   \n",
       "3844          0.11  ...                     600000                  550000   \n",
       "\n",
       "      monthly_sbk_loan  loan_commitment  inst_rep_loanb  ls_rep_loanb  \\\n",
       "3840             60000         18040000        15260000      54190000   \n",
       "3841             20000         12730000        15910000      55360000   \n",
       "3842             20000         13550000        15970000      56890000   \n",
       "3843             20000         13430000        16840000      56790000   \n",
       "3844             20000         14080000        16680000      56880000   \n",
       "\n",
       "      credit_loan  mortgage_loan  credit_card_payment  \\\n",
       "3840     17640000      108690000               107000   \n",
       "3841     20590000      101060000               100000   \n",
       "3842     21750000      102050000                92000   \n",
       "3843     21730000      103120000               112000   \n",
       "3844     20860000      103940000               111000   \n",
       "\n",
       "      credit_card_installments_payment  \n",
       "3840                             29000  \n",
       "3841                             22000  \n",
       "3842                             18000  \n",
       "3843                             21000  \n",
       "3844                             24000  \n",
       "\n",
       "[5 rows x 26 columns]"
      ]
     },
     "execution_count": 11,
     "metadata": {},
     "output_type": "execute_result"
    }
   ],
   "source": [
    "data_by_sex_90s.head()"
   ]
  },
  {
   "cell_type": "code",
   "execution_count": 10,
   "metadata": {
    "scrolled": true
   },
   "outputs": [
    {
     "data": {
      "text/plain": [
       "Index(['pop_cd', 'year', 'month', 'avg_score', 'avg_rat', 'city', 'sex',\n",
       "       'ages', 'population', 'num_opencard', 'num_usecard',\n",
       "       'monthly_card_spend', 'monthly_lc', 'monthly_loan', 'monthly_bk_loan',\n",
       "       'monthly_cd_loan', 'monthly_installments_loan',\n",
       "       'monthly_insurance_loan', 'monthly_sbk_loan', 'loan_commitment',\n",
       "       'inst_rep_loanb', 'ls_rep_loanb', 'credit_loan', 'mortgage_loan',\n",
       "       'credit_card_payment', 'credit_card_installments_payment',\n",
       "       'card_use_rate'],\n",
       "      dtype='object')"
      ]
     },
     "execution_count": 10,
     "metadata": {},
     "output_type": "execute_result"
    }
   ],
   "source": [
    "# data_by_loc_90s.head()\n",
    "data_by_loc_90s.columns"
   ]
  },
  {
   "cell_type": "code",
   "execution_count": 14,
   "metadata": {},
   "outputs": [
    {
     "data": {
      "text/plain": [
       "<matplotlib.axes._subplots.AxesSubplot at 0x25ea8669438>"
      ]
     },
     "execution_count": 14,
     "metadata": {},
     "output_type": "execute_result"
    },
    {
     "data": {
      "image/png": "[encoded data removed]",
      "text/plain": [
       "<Figure size 432x288 with 1 Axes>"
      ]
     },
     "metadata": {
      "needs_background": "light"
     },
     "output_type": "display_data"
    }
   ],
   "source": [
    "# 지역 X 총 대출 금액\n",
    "sns.barplot(x=\"city\", y=\"monthly_bk_loan\", data=data_by_loc_90s)"
   ]
  },
  {
   "cell_type": "code",
   "execution_count": 11,
   "metadata": {},
   "outputs": [
    {
     "data": {
      "text/plain": [
       "<matplotlib.axes._subplots.AxesSubplot at 0x25ea766c278>"
      ]
     },
     "execution_count": 11,
     "metadata": {},
     "output_type": "execute_result"
    },
    {
     "data": {
      "image/png": "[encoded data removed]",
      "text/plain": [
       "<Figure size 432x288 with 1 Axes>"
      ]
     },
     "metadata": {
      "needs_background": "light"
     },
     "output_type": "display_data"
    }
   ],
   "source": [
    "# 월별 X 총 대출 금액\n",
    "sns.barplot(x=\"month\", y=\"monthly_bk_loan\", hue=\"year\", data=data_by_loc_90s)"
   ]
  },
  {
   "cell_type": "code",
   "execution_count": 19,
   "metadata": {},
   "outputs": [
    {
     "data": {
      "text/plain": [
       "<matplotlib.axes._subplots.AxesSubplot at 0x25ea8d0c320>"
      ]
     },
     "execution_count": 19,
     "metadata": {},
     "output_type": "execute_result"
    },
    {
     "data": {
      "image/png": "[encoded data removed]",
      "text/plain": [
       "<Figure size 432x288 with 1 Axes>"
      ]
     },
     "metadata": {
      "needs_background": "light"
     },
     "output_type": "display_data"
    }
   ],
   "source": [
    "# 지역 X 카드 개설 수\n",
    "sns.barplot(x=\"city\", y=\"num_opencard\", data=data_by_loc_90s)"
   ]
  },
  {
   "cell_type": "code",
   "execution_count": 22,
   "metadata": {},
   "outputs": [
    {
     "data": {
      "text/plain": [
       "<matplotlib.axes._subplots.AxesSubplot at 0x25ea8e73048>"
      ]
     },
     "execution_count": 22,
     "metadata": {},
     "output_type": "execute_result"
    },
    {
     "data": {
      "image/png": "[encoded data removed]",
      "text/plain": [
       "<Figure size 432x288 with 1 Axes>"
      ]
     },
     "metadata": {
      "needs_background": "light"
     },
     "output_type": "display_data"
    }
   ],
   "source": [
    "sns.barplot(x=\"city\", y=\"card_use_rate\", data=data_by_loc_90s)"
   ]
  },
  {
   "cell_type": "code",
   "execution_count": 24,
   "metadata": {},
   "outputs": [
    {
     "data": {
      "text/plain": [
       "<matplotlib.axes._subplots.AxesSubplot at 0x25ea8dd4c50>"
      ]
     },
     "execution_count": 24,
     "metadata": {},
     "output_type": "execute_result"
    },
    {
     "data": {
      "image/png": "[encoded data removed]",
      "text/plain": [
       "<Figure size 432x288 with 1 Axes>"
      ]
     },
     "metadata": {
      "needs_background": "light"
     },
     "output_type": "display_data"
    }
   ],
   "source": [
    "sns.barplot(x=\"city\", y=\"monthly_card_spend\", data=data_by_loc_90s)"
   ]
  },
  {
   "cell_type": "code",
   "execution_count": 26,
   "metadata": {},
   "outputs": [
    {
     "data": {
      "text/plain": [
       "<matplotlib.axes._subplots.AxesSubplot at 0x25ea9019128>"
      ]
     },
     "execution_count": 26,
     "metadata": {},
     "output_type": "execute_result"
    },
    {
     "data": {
      "image/png": "[encoded data removed]",
      "text/plain": [
       "<Figure size 432x288 with 1 Axes>"
      ]
     },
     "metadata": {
      "needs_background": "light"
     },
     "output_type": "display_data"
    }
   ],
   "source": [
    "sns.barplot(x=\"city\", y=\"monthly_cd_loan\", data=data_by_loc_90s)"
   ]
  },
  {
   "cell_type": "code",
   "execution_count": 28,
   "metadata": {},
   "outputs": [
    {
     "data": {
      "text/plain": [
       "<matplotlib.axes._subplots.AxesSubplot at 0x25ea9220780>"
      ]
     },
     "execution_count": 28,
     "metadata": {},
     "output_type": "execute_result"
    },
    {
     "data": {
      "image/png": "[encoded data removed]",
      "text/plain": [
       "<Figure size 432x288 with 1 Axes>"
      ]
     },
     "metadata": {
      "needs_background": "light"
     },
     "output_type": "display_data"
    }
   ],
   "source": [
    "sns.barplot(x=\"city\", y=\"credit_card_installments_payment\", data=data_by_loc_90s)"
   ]
  },
  {
   "cell_type": "code",
   "execution_count": null,
   "metadata": {},
   "outputs": [],
   "source": [
    "\n",
    "\n",
    "\n",
    "\n",
    "\n",
    "\n",
    "\n"
   ]
  },
  {
   "cell_type": "code",
   "execution_count": 33,
   "metadata": {},
   "outputs": [
    {
     "data": {
      "text/plain": [
       "<matplotlib.axes._subplots.AxesSubplot at 0x25eaa5db9e8>"
      ]
     },
     "execution_count": 33,
     "metadata": {},
     "output_type": "execute_result"
    },
    {
     "data": {
      "image/png": "[encoded data removed]",
      "text/plain": [
       "<Figure size 432x288 with 1 Axes>"
      ]
     },
     "metadata": {
      "needs_background": "light"
     },
     "output_type": "display_data"
    }
   ],
   "source": [
    "sns.barplot(x=\"city\", y=\"avg_rat\", data=data_by_loc_90s)"
   ]
  },
  {
   "cell_type": "code",
   "execution_count": 12,
   "metadata": {},
   "outputs": [
    {
     "data": {
      "text/plain": [
       "<matplotlib.axes._subplots.AxesSubplot at 0x1b9750e4080>"
      ]
     },
     "execution_count": 12,
     "metadata": {},
     "output_type": "execute_result"
    },
    {
     "data": {
      "image/png": "[encoded data removed]",
      "text/plain": [
       "<Figure size 432x288 with 1 Axes>"
      ]
     },
     "metadata": {
      "needs_background": "light"
     },
     "output_type": "display_data"
    }
   ],
   "source": [
    "sns.barplot(x=\"city\", y=\"monthly_lc\", data=data_by_loc_90s)"
   ]
  },
  {
   "cell_type": "code",
   "execution_count": null,
   "metadata": {},
   "outputs": [],
   "source": []
  }
 ],
 "metadata": {
  "kernelspec": {
   "display_name": "Python 3",
   "language": "python",
   "name": "python3"
  },
  "language_info": {
   "codemirror_mode": {
    "name": "ipython",
    "version": 3
   },
   "file_extension": ".py",
   "mimetype": "text/x-python",
   "name": "python",
   "nbconvert_exporter": "python",
   "pygments_lexer": "ipython3",
   "version": "3.7.3"
  }
 },
 "nbformat": 4,
 "nbformat_minor": 2
}
